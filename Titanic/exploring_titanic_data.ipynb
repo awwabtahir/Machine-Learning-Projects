{
  "metadata": {
    "kernelspec": {
      "display_name": "Python 3",
      "language": "python",
      "name": "python3"
    },
    "language_info": {
      "codemirror_mode": {
        "name": "ipython",
        "version": 3
      },
      "file_extension": ".py",
      "mimetype": "text/x-python",
      "name": "python",
      "nbconvert_exporter": "python",
      "pygments_lexer": "ipython3",
      "version": "3.6.0"
    }
  },
  "nbformat": 4,
  "nbformat_minor": 0,
  "cells": [
    {
      "cell_type": "markdown",
      "source": "Let's get started!!!",
      "metadata": {}
    },
    {
      "cell_type": "code",
      "source": "#important libraries\nimport matplotlib.pyplot as plt\nimport numpy as np\nimport pandas as pd\nimport pylab as p\nimport sklearn as sol",
      "execution_count": null,
      "outputs": [],
      "metadata": {}
    },
    {
      "cell_type": "code",
      "source": "data = pd.read_csv(\"../input/train.csv\")\ndata.head()",
      "execution_count": null,
      "outputs": [],
      "metadata": {}
    },
    {
      "cell_type": "code",
      "source": "#Get the column names\nlist(data)",
      "execution_count": null,
      "outputs": [],
      "metadata": {}
    },
    {
      "cell_type": "code",
      "source": "#Information about data. Finding missing values\ndata.info()",
      "execution_count": null,
      "outputs": [],
      "metadata": {}
    },
    {
      "cell_type": "code",
      "source": "# Total Observation: 891\n# Missing Values for Age\nsum(data['Age'].isnull())",
      "execution_count": null,
      "outputs": [],
      "metadata": {}
    },
    {
      "cell_type": "code",
      "source": "# Missing Values for Cabin\nsum(data['Cabin'].isnull())",
      "execution_count": null,
      "outputs": [],
      "metadata": {}
    },
    {
      "cell_type": "code",
      "source": "# Missing Values for Embarked\nsum(data['Embarked'].isnull())",
      "execution_count": null,
      "outputs": [],
      "metadata": {}
    },
    {
      "cell_type": "code",
      "source": "# Describing the data: Count, Mean, STD, Min, Max\ndata.describe()",
      "execution_count": null,
      "outputs": [],
      "metadata": {}
    },
    {
      "cell_type": "code",
      "source": "# Finding Unique Values\ndata.Sex.unique()",
      "execution_count": null,
      "outputs": [],
      "metadata": {}
    },
    {
      "cell_type": "code",
      "source": "data['Embarked'].unique()",
      "execution_count": null,
      "outputs": [],
      "metadata": {}
    },
    {
      "cell_type": "code",
      "source": "data['Pclass'].unique()",
      "execution_count": null,
      "outputs": [],
      "metadata": {}
    },
    {
      "cell_type": "code",
      "source": "# counting of male in each Pclass\nfor i in range(1,4):\n    print (i, len(data[(data['Sex'] == 'male') & (data['Pclass'] == i)]))",
      "execution_count": null,
      "outputs": [],
      "metadata": {}
    },
    {
      "cell_type": "code",
      "source": "# counting of female in each Pclass\nfor i in range(1,4):\n    print (i, len(data[(data['Sex'] == 'female') & (data['Pclass'] == i)]))",
      "execution_count": null,
      "outputs": [],
      "metadata": {}
    },
    {
      "cell_type": "code",
      "source": "# Passenger class 3 has more passengers as compared to class 1 & 2\n# Simple Histogram of age\ndata['Age'].hist()\np.show()",
      "execution_count": null,
      "outputs": [],
      "metadata": {}
    },
    {
      "cell_type": "code",
      "source": "# after dropping the age column with null values\ndata['Age'].dropna().hist(bins = 16, range = (0,80), alpha = 0.5)",
      "execution_count": null,
      "outputs": [],
      "metadata": {}
    },
    {
      "cell_type": "code",
      "source": "## Cleaning data: Transforming String Values\n# Step 1: Adding new gender column and filling with a number\ndata['gender'] = 4",
      "execution_count": null,
      "outputs": [],
      "metadata": {}
    },
    {
      "cell_type": "code",
      "source": "# Step 2: Populating new gender column with M or F\ndata['gender'] = data['Sex'].map(lambda x:x[0].upper())",
      "execution_count": null,
      "outputs": [],
      "metadata": {}
    },
    {
      "cell_type": "code",
      "source": "# Step 3: Populating gender column with binary\ndata['gender'] = data['Sex'].map({'female': 0, 'male': 1}).astype(int)",
      "execution_count": null,
      "outputs": [],
      "metadata": {}
    },
    {
      "cell_type": "code",
      "source": "# Feature Engineering: Extracting titles from the name\ndef title(name):\n    temp1 = name.split(',')\n    temp2 = temp1[1].split('.')[0]\n    temp3 = temp2.strip()\n    return temp3",
      "execution_count": null,
      "outputs": [],
      "metadata": {}
    },
    {
      "cell_type": "code",
      "source": "data['Title'] = data['Name'].apply(title)",
      "execution_count": null,
      "outputs": [],
      "metadata": {}
    },
    {
      "cell_type": "code",
      "source": "data[['PassengerId', 'Survived', 'Sex', 'Pclass', 'Age', 'gender', 'Title']].head()",
      "execution_count": null,
      "outputs": [],
      "metadata": {}
    },
    {
      "cell_type": "code",
      "source": "# counting passenger by title\ntemp1 = data.groupby('Title')\ntemp2 = temp1.PassengerId.count()\nprint(temp2)",
      "execution_count": null,
      "outputs": [],
      "metadata": {}
    },
    {
      "cell_type": "code",
      "source": "# Barplot : Counting passengers by title\ntemp2.plot(kind = 'bar')",
      "execution_count": null,
      "outputs": [],
      "metadata": {}
    },
    {
      "cell_type": "code",
      "source": "# Majority of passengers has title Mr, Miss, Mrs and Master\n# Let's rename honorific titles like\n# (1) Capt, Don, Dr, Jonkheer, Major, Rev and Sir to Mr; \n# (2) Lady, Mme, Ms, and the Countess to Mrs; \n# (3) Mlle to Miss\n##################################\n# How many male and female are doctor?\ndata[data['Title'] == 'Dr']",
      "execution_count": null,
      "outputs": [],
      "metadata": {}
    },
    {
      "cell_type": "code",
      "source": "# Creating temp column to accomodate female doctor\ndata['Temp'] = data['Sex'] + data['Title']",
      "execution_count": null,
      "outputs": [],
      "metadata": {}
    },
    {
      "cell_type": "code",
      "source": "data.loc[data['Temp'] == 'femaleDr', 'Title'] = 'Mrs'",
      "execution_count": null,
      "outputs": [],
      "metadata": {}
    },
    {
      "cell_type": "code",
      "source": "# drop the temp column\ndata = data.drop(['Temp'], axis = 1)",
      "execution_count": null,
      "outputs": [],
      "metadata": {}
    },
    {
      "cell_type": "code",
      "source": "# function to convert titles into Mr, Mrs, Master and Miss\ndef new_title(title):\n    if title == 'Mr' or title == 'Capt' or title == 'Don' or title == 'Dr' or title == 'Jonkheer' or title     == 'Major' or  title == 'Rev' or title == 'Sir' or title == 'Col':\n        return 'Mr'\n    elif title == 'Mrs' or title == 'Lady' or title == 'Mme' or title == 'Ms' or title == 'the       Countess':\n        return 'Mrs'\n    elif title == 'Miss' or title == 'Mlle':\n        return 'Miss'\n    else:\n        return 'Master'\n    \n# changing titles\ndata['NewTitle'] = data['Title'].apply(new_title)",
      "execution_count": null,
      "outputs": [],
      "metadata": {}
    },
    {
      "cell_type": "code",
      "source": "# drop title column\ndata = data.drop(['Title'], axis = 1)",
      "execution_count": null,
      "outputs": [],
      "metadata": {}
    },
    {
      "cell_type": "markdown",
      "source": "# Counting passengers by titles",
      "metadata": {}
    },
    {
      "cell_type": "code",
      "source": "# counting passengers by titles\ntemp = data.groupby('NewTitle')\ntemp1 = temp.PassengerId.count()\nprint (temp1)\ntemp1.plot(kind = 'bar')",
      "execution_count": null,
      "outputs": [],
      "metadata": {}
    },
    {
      "cell_type": "code",
      "source": "# now descriptive statistics to predict survival chance\ndata.boxplot(column = 'Age', by = 'NewTitle')",
      "execution_count": null,
      "outputs": [],
      "metadata": {}
    },
    {
      "cell_type": "markdown",
      "source": "Some Miss have age > 30, they might not be married or some other case",
      "metadata": {}
    },
    {
      "cell_type": "code",
      "source": "\ndata.boxplot(column = 'Fare', by = 'Pclass')",
      "execution_count": null,
      "outputs": [],
      "metadata": {}
    },
    {
      "cell_type": "markdown",
      "source": "some passengers in class 1 has paid more than $200, they might have paid for whole family",
      "metadata": {}
    },
    {
      "cell_type": "code",
      "source": "# passenger distribution by Pclass and survival chance\ngroup1 = data.groupby('Pclass').PassengerId.count()\ngroup1.plot(kind = 'bar')",
      "execution_count": null,
      "outputs": [],
      "metadata": {}
    },
    {
      "cell_type": "markdown",
      "source": "Almost half of passenger are from class 3",
      "metadata": {}
    },
    {
      "cell_type": "code",
      "source": "group2 = data.groupby('Pclass').Survived.sum()\nPclass_Survival_Prob = group2/group1\nPclass_Survival_Prob.plot(kind = 'bar', color = 'Pink', alpha = 0.65)",
      "execution_count": null,
      "outputs": [],
      "metadata": {}
    },
    {
      "cell_type": "markdown",
      "source": "Class 1 and 2 have greater chance of survival probability then class 3 passengers",
      "metadata": {}
    },
    {
      "cell_type": "markdown",
      "source": "# Barplot using cross tab",
      "metadata": {}
    },
    {
      "cell_type": "code",
      "source": "group3 = pd.crosstab([data.Pclass, data.Sex], data.Survived)\ngroup3.plot(kind = 'bar', stacked = True, color = ['black', 'yellow'])",
      "execution_count": null,
      "outputs": [],
      "metadata": {}
    },
    {
      "cell_type": "markdown",
      "source": "More females survived compared to males",
      "metadata": {}
    },
    {
      "cell_type": "code",
      "source": null,
      "execution_count": null,
      "outputs": [],
      "metadata": {}
    }
  ]
}
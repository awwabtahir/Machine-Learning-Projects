{
 "cells": [
  {
   "cell_type": "code",
   "execution_count": 2,
   "metadata": {
    "collapsed": true
   },
   "outputs": [],
   "source": [
    "import pandas as pd\n",
    "games = pd.read_csv('games.csv')"
   ]
  },
  {
   "cell_type": "code",
   "execution_count": 4,
   "metadata": {
    "collapsed": false
   },
   "outputs": [
    {
     "name": "stdout",
     "output_type": "stream",
     "text": [
      "Index(['id', 'type', 'name', 'yearpublished', 'minplayers', 'maxplayers',\n",
      "       'playingtime', 'minplaytime', 'maxplaytime', 'minage', 'users_rated',\n",
      "       'average_rating', 'bayes_average_rating', 'total_owners',\n",
      "       'total_traders', 'total_wanters', 'total_wishers', 'total_comments',\n",
      "       'total_weights', 'average_weight'],\n",
      "      dtype='object')\n"
     ]
    }
   ],
   "source": [
    "print(games.columns)"
   ]
  },
  {
   "cell_type": "code",
   "execution_count": 5,
   "metadata": {
    "collapsed": false
   },
   "outputs": [
    {
     "name": "stdout",
     "output_type": "stream",
     "text": [
      "(81312, 20)\n"
     ]
    }
   ],
   "source": [
    "print(games.shape)"
   ]
  },
  {
   "cell_type": "code",
   "execution_count": 7,
   "metadata": {
    "collapsed": false
   },
   "outputs": [
    {
     "data": {
      "image/png": "[encoded data removed]",
      "text/plain": [
       "<matplotlib.figure.Figure at 0x7ee1170>"
      ]
     },
     "metadata": {},
     "output_type": "display_data"
    }
   ],
   "source": [
    "import matplotlib.pyplot as plt\n",
    "plt.hist(games[\"average_rating\"])\n",
    "plt.show()"
   ]
  },
  {
   "cell_type": "code",
   "execution_count": 8,
   "metadata": {
    "collapsed": false
   },
   "outputs": [
    {
     "name": "stdout",
     "output_type": "stream",
     "text": [
      "id                             318\n",
      "type                     boardgame\n",
      "name                    Looney Leo\n",
      "yearpublished                    0\n",
      "minplayers                       0\n",
      "maxplayers                       0\n",
      "playingtime                      0\n",
      "minplaytime                      0\n",
      "maxplaytime                      0\n",
      "minage                           0\n",
      "users_rated                      0\n",
      "average_rating                   0\n",
      "bayes_average_rating             0\n",
      "total_owners                     0\n",
      "total_traders                    0\n",
      "total_wanters                    0\n",
      "total_wishers                    1\n",
      "total_comments                   0\n",
      "total_weights                    0\n",
      "average_weight                   0\n",
      "Name: 13048, dtype: object\n",
      "id                                  12333\n",
      "type                            boardgame\n",
      "name                    Twilight Struggle\n",
      "yearpublished                        2005\n",
      "minplayers                              2\n",
      "maxplayers                              2\n",
      "playingtime                           180\n",
      "minplaytime                           180\n",
      "maxplaytime                           180\n",
      "minage                                 13\n",
      "users_rated                         20113\n",
      "average_rating                    8.33774\n",
      "bayes_average_rating              8.22186\n",
      "total_owners                        26647\n",
      "total_traders                         372\n",
      "total_wanters                        1219\n",
      "total_wishers                        5865\n",
      "total_comments                       5347\n",
      "total_weights                        2562\n",
      "average_weight                     3.4785\n",
      "Name: 0, dtype: object\n"
     ]
    }
   ],
   "source": [
    "print(games[games['average_rating'] == 0].iloc[0])\n",
    "print(games[games['average_rating'] > 0].iloc[0])"
   ]
  },
  {
   "cell_type": "code",
   "execution_count": 9,
   "metadata": {
    "collapsed": true
   },
   "outputs": [],
   "source": [
    "games = games[games['users_rated'] > 0]"
   ]
  },
  {
   "cell_type": "code",
   "execution_count": 10,
   "metadata": {
    "collapsed": true
   },
   "outputs": [],
   "source": [
    "games = games.dropna(axis=0)"
   ]
  },
  {
   "cell_type": "code",
   "execution_count": 11,
   "metadata": {
    "collapsed": false
   },
   "outputs": [
    {
     "name": "stdout",
     "output_type": "stream",
     "text": [
      "           id                type  \\\n",
      "0       12333           boardgame   \n",
      "1      120677           boardgame   \n",
      "2      102794           boardgame   \n",
      "3       25613           boardgame   \n",
      "4        3076           boardgame   \n",
      "5       31260           boardgame   \n",
      "6      124742           boardgame   \n",
      "7       96848           boardgame   \n",
      "8       84876           boardgame   \n",
      "9       72125           boardgame   \n",
      "10       2651           boardgame   \n",
      "11     164153           boardgame   \n",
      "12     115746           boardgame   \n",
      "13     121921           boardgame   \n",
      "14      35677           boardgame   \n",
      "15      28720           boardgame   \n",
      "16     126163           boardgame   \n",
      "17     150376           boardgame   \n",
      "18      68448           boardgame   \n",
      "19      18602           boardgame   \n",
      "20     122515           boardgame   \n",
      "21      40834           boardgame   \n",
      "22      62219           boardgame   \n",
      "23      28143           boardgame   \n",
      "24     103885           boardgame   \n",
      "25         93           boardgame   \n",
      "26     146021           boardgame   \n",
      "27     110327           boardgame   \n",
      "28      37111           boardgame   \n",
      "29      12493           boardgame   \n",
      "...       ...                 ...   \n",
      "81134  183804           boardgame   \n",
      "81160  183860  boardgameexpansion   \n",
      "81162  183868           boardgame   \n",
      "81176  183915  boardgameexpansion   \n",
      "81177  183917  boardgameexpansion   \n",
      "81178  183918  boardgameexpansion   \n",
      "81179  183919  boardgameexpansion   \n",
      "81180  183920  boardgameexpansion   \n",
      "81181  183921  boardgameexpansion   \n",
      "81184  183942           boardgame   \n",
      "81188  183959           boardgame   \n",
      "81190  183963           boardgame   \n",
      "81192  183966  boardgameexpansion   \n",
      "81193  183967  boardgameexpansion   \n",
      "81195  183969  boardgameexpansion   \n",
      "81198  183975           boardgame   \n",
      "81199  183976           boardgame   \n",
      "81204  184002           boardgame   \n",
      "81234  184079           boardgame   \n",
      "81249  184159           boardgame   \n",
      "81254  184174  boardgameexpansion   \n",
      "81255  184180  boardgameexpansion   \n",
      "81256  184182  boardgameexpansion   \n",
      "81257  184183  boardgameexpansion   \n",
      "81258  184184  boardgameexpansion   \n",
      "81260  184187  boardgameexpansion   \n",
      "81261  184189  boardgameexpansion   \n",
      "81263  184195  boardgameexpansion   \n",
      "81278  184258           boardgame   \n",
      "81279  184260           boardgame   \n",
      "\n",
      "                                                    name  yearpublished  \\\n",
      "0                                      Twilight Struggle         2005.0   \n",
      "1                                          Terra Mystica         2012.0   \n",
      "2                              Caverna: The Cave Farmers         2013.0   \n",
      "3              Through the Ages: A Story of Civilization         2006.0   \n",
      "4                                            Puerto Rico         2002.0   \n",
      "5                                               Agricola         2007.0   \n",
      "6                                     Android: Netrunner         2012.0   \n",
      "7                                 Mage Knight Board Game         2011.0   \n",
      "8                                The Castles of Burgundy         2011.0   \n",
      "9                                                Eclipse         2011.0   \n",
      "10                                            Power Grid         2004.0   \n",
      "11                           Star Wars: Imperial Assault         2014.0   \n",
      "12                      War of the Ring (second edition)         2012.0   \n",
      "13      Robinson Crusoe: Adventures on the Cursed Island         2012.0   \n",
      "14                                              Le Havre         2008.0   \n",
      "15                                                 Brass         2007.0   \n",
      "16                          Tzolk'in: The Mayan Calendar         2012.0   \n",
      "17                     Dead of Winter: A Crossroads Game         2014.0   \n",
      "18                                             7 Wonders         2010.0   \n",
      "19                                                Caylus         2005.0   \n",
      "20                                             Keyflower         2012.0   \n",
      "21                                    Dominion: Intrigue         2009.0   \n",
      "22                                      Dominant Species         2010.0   \n",
      "23                                   Race for the Galaxy         2007.0   \n",
      "24                     Star Wars: X-Wing Miniatures Game         2012.0   \n",
      "25                                             El Grande         1995.0   \n",
      "26                                       Eldritch Horror         2013.0   \n",
      "27                                    Lords of Waterdeep         2012.0   \n",
      "28                                  Battlestar Galactica         2008.0   \n",
      "29                     Twilight Imperium (Third Edition)         2005.0   \n",
      "...                                                  ...            ...   \n",
      "81134                                    Super Dude Bros         2015.0   \n",
      "81160               XenoShyft: Onslaught  Hive Expansion         2015.0   \n",
      "81162                                     Awkward Turtle            0.0   \n",
      "81176              Rum & Bones: Mercenaries Promo Set #1         2015.0   \n",
      "81177             Rum & Bones: Mercenaries Promos Set #2         2015.0   \n",
      "81178            Rum & Bones: Mercenaries  Heroes Set #2         2015.0   \n",
      "81179                       Rum & Bones: Bone Devils Mix         2015.0   \n",
      "81180             Rum & Bones: Wellsport Brotherhood Mix         2015.0   \n",
      "81181                            Rum & Bones: Helrokkers         2015.0   \n",
      "81184              We Happy Few: The Battle of Agincourt         2015.0   \n",
      "81188                                             Latice         2015.0   \n",
      "81190                         Invaders from Dimension X!         2015.0   \n",
      "81192  Star Wars: X-Wing Miniatures Game  T-70 X-Wing...         2015.0   \n",
      "81193  Star Wars: X-Wing Miniatures Game  TIE/fo Figh...         2015.0   \n",
      "81195                     Spyfall: The Box Is Not Enough         2015.0   \n",
      "81198                                      Smile & Money         2015.0   \n",
      "81199                                        Dice Bazaar         2016.0   \n",
      "81204             Angels and Demons: Battle for Humanity         2015.0   \n",
      "81234                                        Go Monster!         2015.0   \n",
      "81249                        Elefun & Friends Mouse Trap         2013.0   \n",
      "81254             Rum & Bones: Bone Devils Heroes Set #1         2015.0   \n",
      "81255   Rum & Bones: Wellsport Brotherhood Heroes Set #1         2015.0   \n",
      "81256   Rum & Bones: Mazu's Dreadful Curse Heroes Set #1         2015.0   \n",
      "81257       Rum & Bones: La Brise Sanguine Heroes Set #1         2015.0   \n",
      "81258             Rum & Bones: Mercenaries Heroes Set #1         2015.0   \n",
      "81260                    Rum & Bones: Skullkicker heroes         2015.0   \n",
      "81261                        Rum & Bones: Luck Goddesses         2015.0   \n",
      "81263                   Rum & Bones: Mercenary Tide Deck         2015.0   \n",
      "81278                                       Rocket Shogi         2012.0   \n",
      "81279                                     Tricky Pirates         2015.0   \n",
      "\n",
      "       minplayers  maxplayers  playingtime  minplaytime  maxplaytime  minage  \\\n",
      "0             2.0         2.0        180.0        180.0        180.0    13.0   \n",
      "1             2.0         5.0        150.0         60.0        150.0    12.0   \n",
      "2             1.0         7.0        210.0         30.0        210.0    12.0   \n",
      "3             2.0         4.0        240.0        240.0        240.0    12.0   \n",
      "4             2.0         5.0        150.0         90.0        150.0    12.0   \n",
      "5             1.0         5.0        150.0         30.0        150.0    12.0   \n",
      "6             2.0         2.0         45.0         45.0         45.0    14.0   \n",
      "7             1.0         4.0        150.0        150.0        150.0    14.0   \n",
      "8             2.0         4.0         90.0         30.0         90.0    12.0   \n",
      "9             2.0         6.0        200.0         60.0        200.0    14.0   \n",
      "10            2.0         6.0        120.0        120.0        120.0    12.0   \n",
      "11            2.0         5.0         90.0         90.0         90.0     0.0   \n",
      "12            2.0         4.0        150.0        150.0        150.0    13.0   \n",
      "13            1.0         4.0        180.0         90.0        180.0    14.0   \n",
      "14            1.0         5.0        200.0        100.0        200.0    12.0   \n",
      "15            3.0         4.0        180.0        120.0        180.0    13.0   \n",
      "16            2.0         4.0         90.0         90.0         90.0    13.0   \n",
      "17            2.0         5.0        210.0         45.0        210.0    14.0   \n",
      "18            2.0         7.0         30.0         30.0         30.0    10.0   \n",
      "19            2.0         5.0        150.0         60.0        150.0    12.0   \n",
      "20            2.0         6.0        120.0         90.0        120.0    12.0   \n",
      "21            2.0         4.0         30.0         30.0         30.0    13.0   \n",
      "22            2.0         6.0        240.0        120.0        240.0    14.0   \n",
      "23            2.0         4.0         60.0         30.0         60.0    12.0   \n",
      "24            2.0         4.0         60.0         60.0         60.0    14.0   \n",
      "25            2.0         5.0        120.0         60.0        120.0    12.0   \n",
      "26            1.0         8.0        240.0        120.0        240.0    14.0   \n",
      "27            2.0         5.0         60.0         60.0         60.0    12.0   \n",
      "28            3.0         6.0        240.0        120.0        240.0    10.0   \n",
      "29            3.0         6.0        240.0        180.0        240.0    12.0   \n",
      "...           ...         ...          ...          ...          ...     ...   \n",
      "81134         2.0         6.0         60.0         15.0         60.0    12.0   \n",
      "81160         1.0         4.0          0.0         45.0          0.0    14.0   \n",
      "81162         4.0         0.0         30.0         15.0         30.0    17.0   \n",
      "81176         2.0         6.0         60.0         60.0         60.0    13.0   \n",
      "81177         2.0         6.0         60.0         60.0         60.0    13.0   \n",
      "81178         2.0         6.0         60.0         60.0         60.0    13.0   \n",
      "81179         2.0         6.0         60.0         60.0         60.0    13.0   \n",
      "81180         2.0         6.0         60.0         60.0         60.0    13.0   \n",
      "81181         2.0         6.0         60.0         60.0         60.0    13.0   \n",
      "81184         1.0         2.0         90.0         60.0         90.0     0.0   \n",
      "81188         2.0         4.0         30.0         10.0         30.0     0.0   \n",
      "81190         1.0         2.0         90.0         60.0         90.0    12.0   \n",
      "81192         2.0         2.0         20.0         20.0         20.0    14.0   \n",
      "81193         2.0         2.0         20.0         20.0         20.0    14.0   \n",
      "81195         3.0         8.0          0.0         15.0          0.0    12.0   \n",
      "81198         2.0         4.0         30.0         10.0         30.0     8.0   \n",
      "81199         2.0         4.0         45.0         30.0         45.0     6.0   \n",
      "81204         6.0        25.0         30.0         10.0         30.0    13.0   \n",
      "81234         2.0         4.0         30.0         20.0         30.0     5.0   \n",
      "81249         2.0         3.0         20.0         10.0         20.0     4.0   \n",
      "81254         2.0         6.0          0.0         60.0          0.0    14.0   \n",
      "81255         2.0         6.0          0.0         60.0          0.0    14.0   \n",
      "81256         2.0         6.0          0.0         60.0          0.0    14.0   \n",
      "81257         2.0         6.0          0.0         60.0          0.0    14.0   \n",
      "81258         2.0         6.0          0.0         60.0          0.0    14.0   \n",
      "81260         2.0         6.0          0.0         60.0          0.0    14.0   \n",
      "81261         2.0         6.0          0.0         60.0          0.0    14.0   \n",
      "81263         2.0         6.0          0.0         60.0          0.0    14.0   \n",
      "81278         2.0         2.0          0.0         10.0          0.0     8.0   \n",
      "81279         2.0         4.0         60.0         30.0         60.0     8.0   \n",
      "\n",
      "       users_rated  average_rating  bayes_average_rating  total_owners  \\\n",
      "0            20113         8.33774               8.22186         26647   \n",
      "1            14383         8.28798               8.14232         16519   \n",
      "2             9262         8.28994               8.06886         12230   \n",
      "3            13294         8.20407               8.05804         14343   \n",
      "4            39883         8.14261               8.04524         44362   \n",
      "5            39714         8.11957               8.03847         47522   \n",
      "6            15281         8.16760               7.97822         24381   \n",
      "7            12697         8.15901               7.96929         18769   \n",
      "8            15461         8.07879               7.95011         20558   \n",
      "9            15709         8.07933               7.93244         17611   \n",
      "10           34422         7.98880               7.91794         38633   \n",
      "11            3980         8.43944               7.91643          8477   \n",
      "12            3870         8.35044               7.88643          6257   \n",
      "13           10539         8.09283               7.88503         15896   \n",
      "14           15774         7.99115               7.88172         16429   \n",
      "15            8785         8.03071               7.85824          9171   \n",
      "16           12143         7.98673               7.83148         13958   \n",
      "17            9188         8.05776               7.82389         13692   \n",
      "18           36732         7.87047               7.79413         44982   \n",
      "19           19160         7.89829               7.78071         18885   \n",
      "20            6753         7.98786               7.74780          8599   \n",
      "21           19261         7.85479               7.73936         26403   \n",
      "22           10187         7.89276               7.72445         11003   \n",
      "23           28655         7.80281               7.72433         33736   \n",
      "24           11194         7.93301               7.72151         19899   \n",
      "25           15853         7.83279               7.71949         15556   \n",
      "26            8388         7.97188               7.71614         13668   \n",
      "27           19864         7.82181               7.70704         24419   \n",
      "28           20833         7.82752               7.70269         22735   \n",
      "29           12064         7.88473               7.69170         13771   \n",
      "...            ...             ...                   ...           ...   \n",
      "81134            1        10.00000               0.00000             1   \n",
      "81160            1         8.00000               0.00000             3   \n",
      "81162            1         5.00000               0.00000             1   \n",
      "81176            5         8.20000               0.00000            48   \n",
      "81177            5         8.20000               0.00000            47   \n",
      "81178            5         7.80000               0.00000            46   \n",
      "81179            6         7.91667               0.00000            47   \n",
      "81180            6         7.91667               0.00000            47   \n",
      "81181            5         8.00000               0.00000            48   \n",
      "81184            1         8.00000               0.00000             4   \n",
      "81188            1         8.00000               0.00000             0   \n",
      "81190            1        10.00000               0.00000             3   \n",
      "81192            1         8.00000               0.00000             2   \n",
      "81193            1         7.50000               0.00000             2   \n",
      "81195            1         8.00000               0.00000             2   \n",
      "81198            1         9.00000               0.00000             1   \n",
      "81199            3         8.00000               0.00000             2   \n",
      "81204            1         8.10000               0.00000             1   \n",
      "81234            1         7.00000               0.00000             1   \n",
      "81249            1         5.00000               0.00000             0   \n",
      "81254            1         7.50000               0.00000             8   \n",
      "81255            2         7.75000               0.00000            11   \n",
      "81256            1         8.00000               0.00000            10   \n",
      "81257            1         8.00000               0.00000             8   \n",
      "81258            1         8.00000               0.00000            12   \n",
      "81260            1         8.00000               0.00000            16   \n",
      "81261            1         8.00000               0.00000            19   \n",
      "81263            1         8.00000               0.00000            22   \n",
      "81278            1         7.00000               0.00000             0   \n",
      "81279            1         7.00000               0.00000             1   \n",
      "\n",
      "       total_traders  total_wanters  total_wishers  total_comments  \\\n",
      "0                372           1219           5865            5347   \n",
      "1                132           1586           6277            2526   \n",
      "2                 99           1476           5600            1700   \n",
      "3                362           1084           5075            3378   \n",
      "4                795            861           5414            9173   \n",
      "5                837            958           6402            9310   \n",
      "6                680            627           3244            3202   \n",
      "7                367           1116           5427            2861   \n",
      "8                215            929           3681            3244   \n",
      "9                273           1108           5581            3188   \n",
      "10               550           1171           6157            7531   \n",
      "11                57            701           2970             736   \n",
      "12                71            677           2431             771   \n",
      "13               217           1379           5821            2109   \n",
      "14               205           1343           5149            3458   \n",
      "15               149            798           2858            2259   \n",
      "16               120           1056           3945            2144   \n",
      "17               144           1086           4956            1602   \n",
      "18               464           1046           5806            7126   \n",
      "19               353            878           4011            4984   \n",
      "20                78           1017           3197            1442   \n",
      "21               374            461           2281            3005   \n",
      "22               243           1017           4285            2613   \n",
      "23               708            761           4597            6807   \n",
      "24               334            421           1826            2183   \n",
      "25               261           1130           3787            4250   \n",
      "26               147            643           3447            1585   \n",
      "27               257            995           4706            3898   \n",
      "28               514            643           4005            4817   \n",
      "29               287            927           4650            3369   \n",
      "...              ...            ...            ...             ...   \n",
      "81134              0              0              0               0   \n",
      "81160              0              0              5               2   \n",
      "81162              1              0              0               1   \n",
      "81176              0              1              2               2   \n",
      "81177              1              1              2               2   \n",
      "81178              0              0              2               2   \n",
      "81179              0              0              3               2   \n",
      "81180              0              0              3               2   \n",
      "81181              0              0              2               2   \n",
      "81184              0              1              3               0   \n",
      "81188              0              0              1               0   \n",
      "81190              0              3              6               1   \n",
      "81192              0              8             25               1   \n",
      "81193              0              7             23               1   \n",
      "81195              1              5             12               0   \n",
      "81198              0              0              0               0   \n",
      "81199              0              0              1               0   \n",
      "81204              0              0              0               1   \n",
      "81234              0              0              0               0   \n",
      "81249              0              0              0               0   \n",
      "81254              0              0              0               2   \n",
      "81255              0              0              2               2   \n",
      "81256              0              0              1               2   \n",
      "81257              0              0              2               2   \n",
      "81258              0              0              3               2   \n",
      "81260              0              0              1               2   \n",
      "81261              0              0              1               2   \n",
      "81263              0              0              0               2   \n",
      "81278              0              0              0               1   \n",
      "81279              0              0              0               0   \n",
      "\n",
      "       total_weights  average_weight  \n",
      "0               2562          3.4785  \n",
      "1               1423          3.8939  \n",
      "2                777          3.7761  \n",
      "3               1642          4.1590  \n",
      "4               5213          3.2943  \n",
      "5               5065          3.6160  \n",
      "6               1260          3.3103  \n",
      "7               1409          4.1292  \n",
      "8               1176          3.0442  \n",
      "9               1486          3.6359  \n",
      "10              3998          3.2911  \n",
      "11               360          3.2250  \n",
      "12               288          3.9375  \n",
      "13               896          3.6328  \n",
      "14              1450          3.7531  \n",
      "15              1012          3.8646  \n",
      "16               933          3.5595  \n",
      "17               608          2.9408  \n",
      "18              2917          2.3384  \n",
      "19              2894          3.8252  \n",
      "20               517          3.3056  \n",
      "21              1121          2.4469  \n",
      "22              1070          4.0103  \n",
      "23              2922          2.9617  \n",
      "24               911          2.4577  \n",
      "25              1861          3.0919  \n",
      "26               674          3.2834  \n",
      "27              1493          2.5177  \n",
      "28              1783          3.2013  \n",
      "29              1761          4.1942  \n",
      "...              ...             ...  \n",
      "81134              1          2.0000  \n",
      "81160              0          0.0000  \n",
      "81162              0          0.0000  \n",
      "81176              1          1.0000  \n",
      "81177              1          1.0000  \n",
      "81178              1          1.0000  \n",
      "81179              1          1.0000  \n",
      "81180              1          1.0000  \n",
      "81181              1          1.0000  \n",
      "81184              0          0.0000  \n",
      "81188              0          0.0000  \n",
      "81190              0          0.0000  \n",
      "81192              0          0.0000  \n",
      "81193              0          0.0000  \n",
      "81195              0          0.0000  \n",
      "81198              0          0.0000  \n",
      "81199              1          1.0000  \n",
      "81204              0          0.0000  \n",
      "81234              0          0.0000  \n",
      "81249              0          0.0000  \n",
      "81254              0          0.0000  \n",
      "81255              1          1.0000  \n",
      "81256              1          1.0000  \n",
      "81257              1          1.0000  \n",
      "81258              1          1.0000  \n",
      "81260              1          1.0000  \n",
      "81261              1          1.0000  \n",
      "81263              1          1.0000  \n",
      "81278              0          0.0000  \n",
      "81279              2          1.5000  \n",
      "\n",
      "[56894 rows x 20 columns]\n"
     ]
    }
   ],
   "source": [
    "print(games)"
   ]
  },
  {
   "cell_type": "code",
   "execution_count": 12,
   "metadata": {
    "collapsed": false
   },
   "outputs": [
    {
     "name": "stdout",
     "output_type": "stream",
     "text": [
      "           id                type  \\\n",
      "20226   13200           boardgame   \n",
      "20531   13617           boardgame   \n",
      "35834   32200           boardgame   \n",
      "44005   42096           boardgame   \n",
      "53112   88581           boardgame   \n",
      "53142   88753           boardgame   \n",
      "53599   90849           boardgame   \n",
      "53920   92496  boardgameexpansion   \n",
      "54028   93010           boardgame   \n",
      "54045   93103  boardgameexpansion   \n",
      "54080   93286           boardgame   \n",
      "54389   94769           boardgame   \n",
      "54790   96668           boardgame   \n",
      "54958   97409  boardgameexpansion   \n",
      "55198   98377           boardgame   \n",
      "55289   98727  boardgameexpansion   \n",
      "55291   98729  boardgameexpansion   \n",
      "55292   98730  boardgameexpansion   \n",
      "55328   98868           boardgame   \n",
      "55329   98870           boardgame   \n",
      "55374   99037           boardgame   \n",
      "55524   99573           boardgame   \n",
      "55540   99615           boardgame   \n",
      "55549   99629  boardgameexpansion   \n",
      "55654  100014           boardgame   \n",
      "55671  100094           boardgame   \n",
      "55834  101007           boardgame   \n",
      "55970  101861           boardgame   \n",
      "56135  102706           boardgame   \n",
      "56137  102719           boardgame   \n",
      "...       ...                 ...   \n",
      "80065  181082  boardgameexpansion   \n",
      "80094  181143           boardgame   \n",
      "80172  181307  boardgameexpansion   \n",
      "80245  181415           boardgame   \n",
      "80276  181491           boardgame   \n",
      "80286  181503  boardgameexpansion   \n",
      "80287  181504           boardgame   \n",
      "80288  181505  boardgameexpansion   \n",
      "80290  181507  boardgameexpansion   \n",
      "80291  181508  boardgameexpansion   \n",
      "80295  181512  boardgameexpansion   \n",
      "80296  181513  boardgameexpansion   \n",
      "80297  181514  boardgameexpansion   \n",
      "80299  181516  boardgameexpansion   \n",
      "80300  181518  boardgameexpansion   \n",
      "80301  181519  boardgameexpansion   \n",
      "80306  181524           boardgame   \n",
      "80391  181701           boardgame   \n",
      "80425  181852  boardgameexpansion   \n",
      "80479  182014  boardgameexpansion   \n",
      "80526  182078  boardgameexpansion   \n",
      "80635  182352           boardgame   \n",
      "80642  182367  boardgameexpansion   \n",
      "80767  182692  boardgameexpansion   \n",
      "80851  182947           boardgame   \n",
      "80906  183145           boardgame   \n",
      "80911  183152           boardgame   \n",
      "81106  183683           boardgame   \n",
      "81134  183804           boardgame   \n",
      "81190  183963           boardgame   \n",
      "\n",
      "                                                    name  yearpublished  \\\n",
      "20226                                            Vox Pop         1938.0   \n",
      "20531                          War! Blitzkrieg & Bombers         2006.0   \n",
      "35834                               Seadogs and Darlings         1986.0   \n",
      "44005               Confusion Flats: an Exploration Game         1977.0   \n",
      "53112                            Objection! Justice Duel         2012.0   \n",
      "53142                                      Terra Shrinka         2013.0   \n",
      "53599                                  Bonjour la France         1967.0   \n",
      "53920               Battletech Field Manual: Mercenaries         1997.0   \n",
      "54028                           Dual Value Playing Cards         2011.0   \n",
      "54045           Classic BattleTech Field Manual: Updates         2003.0   \n",
      "54080                                          Color War            0.0   \n",
      "54389                        The Constitution Quest Game         2011.0   \n",
      "54790                              Santa Claus: the Game            0.0   \n",
      "54958                                  Captain's Log #13         1993.0   \n",
      "55198                          Sacrifice of the Pharaohs         2010.0   \n",
      "55289  Star Fleet Battles: Captain's Module P4  Marines!         1992.0   \n",
      "55291  Star Fleet Battles: Captain's Module P5  Lyran...         1992.0   \n",
      "55292                                  Captain's Log #17         1995.0   \n",
      "55328                                        The Puzzler            0.0   \n",
      "55329                                   Jewel Maze Craze         2011.0   \n",
      "55374                                             Biruda         2014.0   \n",
      "55524                Lock 'n Load: Heroes of the Pacific         2015.0   \n",
      "55540                                     Treasure Pools         2010.0   \n",
      "55549                              Of Spats And Pedrails         2011.0   \n",
      "55654                                       Whirred PLAY         2010.0   \n",
      "55671                                          Your Word            0.0   \n",
      "55834                                                FQ3            0.0   \n",
      "55970                 Mystery Date Electronic Board Game         1999.0   \n",
      "56135        Lords, Ladies & Lizards: The Adventure Game            0.0   \n",
      "56137                                         9 Kingdoms         2010.0   \n",
      "...                                                  ...            ...   \n",
      "80065  Judge Dredd Miniatures Game: Blood on the Streets         2014.0   \n",
      "80094                       Deadlock City Bounty Hunters         2015.0   \n",
      "80172                       Dead of Winter: Andrea Smith         2015.0   \n",
      "80245                                    Don't be Greedy         2015.0   \n",
      "80276                                        Filthy Mime         2015.0   \n",
      "80286           Wings of Glory: World War 1: Aviatik D.I         2013.0   \n",
      "80287  Wings of Glory: World War 1  Siemens-Schukert ...         2013.0   \n",
      "80288      Wings of Glory: World War 1  Sopwith Triplane         2013.0   \n",
      "80290          Wings of Glory: World War 1  Hanriot HD.1         2013.0   \n",
      "80291            Wings of Glory: World War 1  SPAD S.VII         2014.0   \n",
      "80295         Wings of Glory: World War 1  Albatros D.II         2014.0   \n",
      "80296         Wings of Glory: World War 1  Sopwith Snipe         2014.0   \n",
      "80297          Wings of Glory: World War 1  Fokker E.III         2012.0   \n",
      "80299  Wings of Glory: World War 1: Bristol F .2B Fig...         2014.0   \n",
      "80300            Wings of Glory: World War 1  Airco DH.4         2014.0   \n",
      "80301            Wings of Glory: World War 1  Gotha G. V         2014.0   \n",
      "80306                      Masmorra: Dungeons of Arcadia         2016.0   \n",
      "80391                                     Campfire Tales         2015.0   \n",
      "80425            Star Wars: The Card Game  New Alliances         2015.0   \n",
      "80479                  ASL Action Pack #11: 29 Let's Go!         2015.0   \n",
      "80526  Ticket to Ride Map Collection: Volume 5  Unite...         2015.0   \n",
      "80635                                   The Exodus Fleet         2016.0   \n",
      "80642              Doomtown: Reloaded  The Light Shineth         2015.0   \n",
      "80767                  Legendary: Secret Wars - Volume 2         2015.0   \n",
      "80851             7 Summits:  A Mountaineering Challenge         2015.0   \n",
      "80906  Dick: A Card Game Based on the Novel by Herman...         2015.0   \n",
      "80911                                                 T2         2015.0   \n",
      "81106                                      Space Yoghurt         2015.0   \n",
      "81134                                    Super Dude Bros         2015.0   \n",
      "81190                         Invaders from Dimension X!         2015.0   \n",
      "\n",
      "       minplayers  maxplayers  playingtime  minplaytime  maxplaytime  minage  \\\n",
      "20226         2.0        40.0          0.0          0.0          0.0     0.0   \n",
      "20531         2.0         6.0          0.0          0.0          0.0    12.0   \n",
      "35834         2.0         2.0          3.0          3.0          3.0     0.0   \n",
      "44005         3.0         6.0        240.0        240.0        240.0    18.0   \n",
      "53112         2.0         2.0         30.0         30.0         30.0    12.0   \n",
      "53142         1.0         4.0         60.0         60.0         60.0     8.0   \n",
      "53599         2.0         4.0         60.0         60.0         60.0    10.0   \n",
      "53920         2.0         6.0        120.0        120.0        120.0     0.0   \n",
      "54028         1.0         8.0         10.0         10.0         10.0     5.0   \n",
      "54045         2.0         6.0        120.0        120.0        120.0     0.0   \n",
      "54080         2.0         2.0         10.0         10.0         10.0     8.0   \n",
      "54389         2.0         4.0         60.0         60.0         60.0    13.0   \n",
      "54790         2.0         4.0         30.0         30.0         30.0     3.0   \n",
      "54958         0.0         0.0          0.0          0.0          0.0     0.0   \n",
      "55198         2.0        15.0         60.0         60.0         60.0    10.0   \n",
      "55289         2.0         3.0          0.0          0.0          0.0     0.0   \n",
      "55291         2.0         3.0          0.0          0.0          0.0     0.0   \n",
      "55292         2.0         3.0          0.0          0.0          0.0     0.0   \n",
      "55328         2.0         4.0         60.0         60.0         60.0    10.0   \n",
      "55329         3.0         5.0         30.0         30.0         30.0     8.0   \n",
      "55374         2.0         4.0         45.0         45.0         45.0     8.0   \n",
      "55524         1.0         2.0        240.0        120.0        240.0    12.0   \n",
      "55540         2.0         4.0         30.0         30.0         30.0     6.0   \n",
      "55549         2.0         4.0         60.0         60.0         60.0    12.0   \n",
      "55654         4.0         0.0         30.0         30.0         30.0     8.0   \n",
      "55671         4.0         8.0         30.0         30.0         30.0    10.0   \n",
      "55834         2.0        10.0        100.0        100.0        100.0    13.0   \n",
      "55970         1.0         4.0          0.0          0.0          0.0     9.0   \n",
      "56135         2.0         6.0        120.0        120.0        120.0    13.0   \n",
      "56137         2.0         6.0         60.0         60.0         60.0     0.0   \n",
      "...           ...         ...          ...          ...          ...     ...   \n",
      "80065         2.0         8.0        180.0         30.0        180.0    12.0   \n",
      "80094         2.0         5.0         15.0          5.0         15.0    12.0   \n",
      "80172         2.0         5.0        100.0        100.0        100.0    12.0   \n",
      "80245         2.0         4.0         15.0          5.0         15.0     5.0   \n",
      "80276         3.0         0.0         90.0         30.0         90.0    17.0   \n",
      "80286         2.0         0.0          0.0         30.0          0.0    13.0   \n",
      "80287         2.0         0.0          0.0         30.0          0.0    13.0   \n",
      "80288         2.0         0.0          0.0         30.0          0.0    13.0   \n",
      "80290         2.0         0.0          0.0         30.0          0.0    13.0   \n",
      "80291         2.0         0.0          0.0         30.0          0.0    13.0   \n",
      "80295         2.0         0.0          0.0         30.0          0.0    13.0   \n",
      "80296         2.0         0.0          0.0         30.0          0.0    13.0   \n",
      "80297         2.0         0.0          0.0         30.0          0.0    13.0   \n",
      "80299         2.0         0.0          0.0         30.0          0.0    13.0   \n",
      "80300         2.0         0.0          0.0         30.0          0.0    13.0   \n",
      "80301         2.0         0.0          0.0         30.0          0.0    13.0   \n",
      "80306         2.0         5.0         45.0         20.0         45.0    13.0   \n",
      "80391         3.0         4.0         60.0         45.0         60.0    10.0   \n",
      "80425         2.0         2.0         60.0         60.0         60.0    10.0   \n",
      "80479         2.0         0.0          0.0        180.0          0.0     0.0   \n",
      "80526         0.0         0.0          0.0          0.0          0.0     0.0   \n",
      "80635         2.0         5.0        120.0         60.0        120.0    13.0   \n",
      "80642         0.0         0.0          0.0          0.0          0.0     0.0   \n",
      "80767         0.0         0.0          0.0          0.0          0.0     0.0   \n",
      "80851         1.0         4.0         60.0         30.0         60.0    12.0   \n",
      "80906         4.0        30.0          0.0         20.0          0.0    18.0   \n",
      "80911         3.0         5.0         20.0          5.0         20.0     6.0   \n",
      "81106         2.0         4.0         20.0         10.0         20.0     5.0   \n",
      "81134         2.0         6.0         60.0         15.0         60.0    12.0   \n",
      "81190         1.0         2.0         90.0         60.0         90.0    12.0   \n",
      "\n",
      "       users_rated  average_rating  bayes_average_rating  total_owners  \\\n",
      "20226            1            10.0                   0.0             7   \n",
      "20531            1            10.0                   0.0             0   \n",
      "35834            1            10.0                   0.0             1   \n",
      "44005            1            10.0                   0.0             1   \n",
      "53112            2            10.0                   0.0             2   \n",
      "53142            2            10.0                   0.0             4   \n",
      "53599            1            10.0                   0.0             3   \n",
      "53920            1            10.0                   0.0            22   \n",
      "54028            1            10.0                   0.0             1   \n",
      "54045            1            10.0                   0.0            23   \n",
      "54080            1            10.0                   0.0             0   \n",
      "54389            1            10.0                   0.0            12   \n",
      "54790            1            10.0                   0.0             3   \n",
      "54958            2            10.0                   0.0            37   \n",
      "55198            1            10.0                   0.0             1   \n",
      "55289            1            10.0                   0.0            29   \n",
      "55291            1            10.0                   0.0            28   \n",
      "55292            1            10.0                   0.0            23   \n",
      "55328            1            10.0                   0.0             1   \n",
      "55329            1            10.0                   0.0             1   \n",
      "55374            2            10.0                   0.0             3   \n",
      "55524            2            10.0                   0.0            23   \n",
      "55540            1            10.0                   0.0             1   \n",
      "55549            2            10.0                   0.0            12   \n",
      "55654            1            10.0                   0.0             1   \n",
      "55671            1            10.0                   0.0             1   \n",
      "55834            2            10.0                   0.0             2   \n",
      "55970            1            10.0                   0.0             6   \n",
      "56135            2            10.0                   0.0             2   \n",
      "56137            2            10.0                   0.0             4   \n",
      "...            ...             ...                   ...           ...   \n",
      "80065            1            10.0                   0.0             2   \n",
      "80094            1            10.0                   0.0             1   \n",
      "80172            1            10.0                   0.0             3   \n",
      "80245            1            10.0                   0.0             2   \n",
      "80276            3            10.0                   0.0             1   \n",
      "80286            1            10.0                   0.0             2   \n",
      "80287            1            10.0                   0.0             3   \n",
      "80288            1            10.0                   0.0             4   \n",
      "80290            1            10.0                   0.0             2   \n",
      "80291            1            10.0                   0.0             2   \n",
      "80295            1            10.0                   0.0             5   \n",
      "80296            1            10.0                   0.0             4   \n",
      "80297            1            10.0                   0.0             6   \n",
      "80299            1            10.0                   0.0             5   \n",
      "80300            1            10.0                   0.0             4   \n",
      "80301            1            10.0                   0.0             2   \n",
      "80306            1            10.0                   0.0             0   \n",
      "80391            1            10.0                   0.0             0   \n",
      "80425            1            10.0                   0.0             1   \n",
      "80479            2            10.0                   0.0            40   \n",
      "80526            3            10.0                   0.0             3   \n",
      "80635            1            10.0                   0.0             2   \n",
      "80642            1            10.0                   0.0             2   \n",
      "80767            1            10.0                   0.0             8   \n",
      "80851            1            10.0                   0.0             2   \n",
      "80906            1            10.0                   0.0             2   \n",
      "80911            1            10.0                   0.0             2   \n",
      "81106            1            10.0                   0.0             1   \n",
      "81134            1            10.0                   0.0             1   \n",
      "81190            1            10.0                   0.0             3   \n",
      "\n",
      "       total_traders  total_wanters  total_wishers  total_comments  \\\n",
      "20226              1              0              0               1   \n",
      "20531              0              0              5               4   \n",
      "35834              0              0              0               0   \n",
      "44005              0              0              1               1   \n",
      "53112              0              2              3               0   \n",
      "53142              0              2              7               0   \n",
      "53599              0              0              1               1   \n",
      "53920              0              0              1               0   \n",
      "54028              0              0              0               1   \n",
      "54045              0              0              2               0   \n",
      "54080              0              0              0               1   \n",
      "54389              1              1              3               0   \n",
      "54790              0              0              0               0   \n",
      "54958              2              0              0               1   \n",
      "55198              0              0              0               0   \n",
      "55289              1              1              0               0   \n",
      "55291              0              1              0               0   \n",
      "55292              2              1              1               1   \n",
      "55328              0              0              0               0   \n",
      "55329              0              0              0               0   \n",
      "55374              0              5             20               3   \n",
      "55524              0             17             62               6   \n",
      "55540              1              0              0               0   \n",
      "55549              0              0              1               0   \n",
      "55654              0              0              0               0   \n",
      "55671              0              0              0               0   \n",
      "55834              0              2              2               1   \n",
      "55970              0              1              2               0   \n",
      "56135              0              7             45               3   \n",
      "56137              0              0              0               1   \n",
      "...              ...            ...            ...             ...   \n",
      "80065              0              0              1               0   \n",
      "80094              0              0              0               0   \n",
      "80172              0             25             36               0   \n",
      "80245              0              0              0               1   \n",
      "80276              0              0              3               3   \n",
      "80286              0              0              0               0   \n",
      "80287              0              0              0               0   \n",
      "80288              0              0              0               0   \n",
      "80290              0              0              0               0   \n",
      "80291              0              0              0               0   \n",
      "80295              0              0              0               0   \n",
      "80296              0              0              0               0   \n",
      "80297              0              0              0               0   \n",
      "80299              0              0              0               0   \n",
      "80300              0              0              0               0   \n",
      "80301              0              0              0               0   \n",
      "80306              0              5             20               0   \n",
      "80391              0              0              1               0   \n",
      "80425              0              3             26               0   \n",
      "80479              0              0              3               1   \n",
      "80526              0             96            518               3   \n",
      "80635              0              1              2               1   \n",
      "80642              0              9             24               0   \n",
      "80767              0             22            105               0   \n",
      "80851              0              0              0               0   \n",
      "80906              0              0              0               0   \n",
      "80911              0              0              1               0   \n",
      "81106              0              0              0               1   \n",
      "81134              0              0              0               0   \n",
      "81190              0              3              6               1   \n",
      "\n",
      "       total_weights  average_weight  \n",
      "20226              0             0.0  \n",
      "20531              0             0.0  \n",
      "35834              0             0.0  \n",
      "44005              0             0.0  \n",
      "53112              0             0.0  \n",
      "53142              0             0.0  \n",
      "53599              0             0.0  \n",
      "53920              0             0.0  \n",
      "54028              0             0.0  \n",
      "54045              0             0.0  \n",
      "54080              1             3.0  \n",
      "54389              0             0.0  \n",
      "54790              0             0.0  \n",
      "54958              0             0.0  \n",
      "55198              1             4.0  \n",
      "55289              0             0.0  \n",
      "55291              0             0.0  \n",
      "55292              0             0.0  \n",
      "55328              1             1.0  \n",
      "55329              1             1.0  \n",
      "55374              1             3.0  \n",
      "55524              0             0.0  \n",
      "55540              0             0.0  \n",
      "55549              0             0.0  \n",
      "55654              1             2.0  \n",
      "55671              1             1.0  \n",
      "55834              1             3.0  \n",
      "55970              0             0.0  \n",
      "56135              0             0.0  \n",
      "56137              0             0.0  \n",
      "...              ...             ...  \n",
      "80065              0             0.0  \n",
      "80094              0             0.0  \n",
      "80172              0             0.0  \n",
      "80245              0             0.0  \n",
      "80276              0             0.0  \n",
      "80286              0             0.0  \n",
      "80287              0             0.0  \n",
      "80288              0             0.0  \n",
      "80290              0             0.0  \n",
      "80291              0             0.0  \n",
      "80295              0             0.0  \n",
      "80296              0             0.0  \n",
      "80297              0             0.0  \n",
      "80299              0             0.0  \n",
      "80300              0             0.0  \n",
      "80301              0             0.0  \n",
      "80306              0             0.0  \n",
      "80391              0             0.0  \n",
      "80425              0             0.0  \n",
      "80479              0             0.0  \n",
      "80526              1             2.0  \n",
      "80635              1             4.0  \n",
      "80642              0             0.0  \n",
      "80767              0             0.0  \n",
      "80851              0             0.0  \n",
      "80906              0             0.0  \n",
      "80911              0             0.0  \n",
      "81106              0             0.0  \n",
      "81134              1             2.0  \n",
      "81190              0             0.0  \n",
      "\n",
      "[418 rows x 20 columns]\n"
     ]
    }
   ],
   "source": [
    "print(games[games['average_rating'] == 10])"
   ]
  },
  {
   "cell_type": "code",
   "execution_count": 26,
   "metadata": {
    "collapsed": false
   },
   "outputs": [],
   "source": [
    "high_rated = games[games['average_rating'] == 8]"
   ]
  },
  {
   "cell_type": "code",
   "execution_count": 27,
   "metadata": {
    "collapsed": true
   },
   "outputs": [],
   "source": [
    "good_games = high_rated[high_rated['users_rated'] > 10]"
   ]
  },
  {
   "cell_type": "code",
   "execution_count": 30,
   "metadata": {
    "collapsed": false
   },
   "outputs": [
    {
     "name": "stdout",
     "output_type": "stream",
     "text": [
      "16\n"
     ]
    }
   ],
   "source": [
    "good_games = good_games[good_games['maxplayers'] > 0]\n",
    "print(len(good_games))"
   ]
  },
  {
   "cell_type": "code",
   "execution_count": 31,
   "metadata": {
    "collapsed": true
   },
   "outputs": [],
   "source": [
    "from sklearn.cluster import KMeans\n",
    "kmeans_model = KMeans(n_clusters = 5, random_state = 1)\n",
    "good_columns = games._get_numeric_data()"
   ]
  },
  {
   "cell_type": "code",
   "execution_count": 32,
   "metadata": {
    "collapsed": false
   },
   "outputs": [
    {
     "data": {
      "text/plain": [
       "KMeans(algorithm='auto', copy_x=True, init='k-means++', max_iter=300,\n",
       "    n_clusters=5, n_init=10, n_jobs=1, precompute_distances='auto',\n",
       "    random_state=1, tol=0.0001, verbose=0)"
      ]
     },
     "execution_count": 32,
     "metadata": {},
     "output_type": "execute_result"
    }
   ],
   "source": [
    "kmeans_model.fit(good_columns)\n"
   ]
  },
  {
   "cell_type": "code",
   "execution_count": 33,
   "metadata": {
    "collapsed": true
   },
   "outputs": [],
   "source": [
    "labels = kmeans_model.labels_\n"
   ]
  },
  {
   "cell_type": "code",
   "execution_count": 34,
   "metadata": {
    "collapsed": true
   },
   "outputs": [],
   "source": [
    "from sklearn.decomposition import PCA"
   ]
  },
  {
   "cell_type": "code",
   "execution_count": 35,
   "metadata": {
    "collapsed": true
   },
   "outputs": [],
   "source": [
    "pca_2 = PCA(2)"
   ]
  },
  {
   "cell_type": "code",
   "execution_count": 36,
   "metadata": {
    "collapsed": false
   },
   "outputs": [
    {
     "data": {
      "image/png": "[encoded data removed]",
      "text/plain": [
       "<matplotlib.figure.Figure at 0xb6ffad0>"
      ]
     },
     "metadata": {},
     "output_type": "display_data"
    }
   ],
   "source": [
    "plot_columns = pca_2.fit_transform(good_columns)\n",
    "plt.scatter(x=plot_columns[:,0], y=plot_columns[:,1], c=labels)\n",
    "plt.show()"
   ]
  },
  {
   "cell_type": "code",
   "execution_count": 37,
   "metadata": {
    "collapsed": false
   },
   "outputs": [
    {
     "data": {
      "text/plain": [
       "id                      0.304201\n",
       "yearpublished           0.108461\n",
       "minplayers             -0.032701\n",
       "maxplayers             -0.008335\n",
       "playingtime             0.048994\n",
       "minplaytime             0.043985\n",
       "maxplaytime             0.048994\n",
       "minage                  0.210049\n",
       "users_rated             0.112564\n",
       "average_rating          1.000000\n",
       "bayes_average_rating    0.231563\n",
       "total_owners            0.137478\n",
       "total_traders           0.119452\n",
       "total_wanters           0.196566\n",
       "total_wishers           0.171375\n",
       "total_comments          0.123714\n",
       "total_weights           0.109691\n",
       "average_weight          0.351081\n",
       "Name: average_rating, dtype: float64"
      ]
     },
     "execution_count": 37,
     "metadata": {},
     "output_type": "execute_result"
    }
   ],
   "source": [
    "games.corr()[\"average_rating\"]"
   ]
  },
  {
   "cell_type": "code",
   "execution_count": 38,
   "metadata": {
    "collapsed": true
   },
   "outputs": [],
   "source": [
    "columns = games.columns.tolist()"
   ]
  },
  {
   "cell_type": "code",
   "execution_count": 39,
   "metadata": {
    "collapsed": false
   },
   "outputs": [
    {
     "name": "stdout",
     "output_type": "stream",
     "text": [
      "['id', 'type', 'name', 'yearpublished', 'minplayers', 'maxplayers', 'playingtime', 'minplaytime', 'maxplaytime', 'minage', 'users_rated', 'average_rating', 'bayes_average_rating', 'total_owners', 'total_traders', 'total_wanters', 'total_wishers', 'total_comments', 'total_weights', 'average_weight']\n"
     ]
    }
   ],
   "source": [
    "print(columns)"
   ]
  },
  {
   "cell_type": "code",
   "execution_count": 40,
   "metadata": {
    "collapsed": true
   },
   "outputs": [],
   "source": [
    "columns = [c for c in columns if c not in['bayes_average_rating', 'average_rating', 'type', 'name']]"
   ]
  },
  {
   "cell_type": "code",
   "execution_count": 41,
   "metadata": {
    "collapsed": false
   },
   "outputs": [
    {
     "name": "stdout",
     "output_type": "stream",
     "text": [
      "['id', 'yearpublished', 'minplayers', 'maxplayers', 'playingtime', 'minplaytime', 'maxplaytime', 'minage', 'users_rated', 'total_owners', 'total_traders', 'total_wanters', 'total_wishers', 'total_comments', 'total_weights', 'average_weight']\n"
     ]
    }
   ],
   "source": [
    "print(columns)"
   ]
  },
  {
   "cell_type": "code",
   "execution_count": 42,
   "metadata": {
    "collapsed": true
   },
   "outputs": [],
   "source": [
    "target = \"average_rating\""
   ]
  },
  {
   "cell_type": "code",
   "execution_count": 43,
   "metadata": {
    "collapsed": false
   },
   "outputs": [
    {
     "name": "stderr",
     "output_type": "stream",
     "text": [
      "C:\\Users\\Awwab\\Anaconda3\\lib\\site-packages\\sklearn\\cross_validation.py:44: DeprecationWarning: This module was deprecated in version 0.18 in favor of the model_selection module into which all the refactored classes and functions are moved. Also note that the interface of the new CV iterators are different from that of this module. This module will be removed in 0.20.\n",
      "  \"This module will be removed in 0.20.\", DeprecationWarning)\n"
     ]
    }
   ],
   "source": [
    "from sklearn.cross_validation import train_test_split"
   ]
  },
  {
   "cell_type": "code",
   "execution_count": 44,
   "metadata": {
    "collapsed": true
   },
   "outputs": [],
   "source": [
    "train = games.sample(frac=0.8,random_state=1)"
   ]
  },
  {
   "cell_type": "code",
   "execution_count": 45,
   "metadata": {
    "collapsed": true
   },
   "outputs": [],
   "source": [
    "test = games.loc[~games.index.isin(train.index)]"
   ]
  },
  {
   "cell_type": "code",
   "execution_count": 46,
   "metadata": {
    "collapsed": false
   },
   "outputs": [
    {
     "name": "stdout",
     "output_type": "stream",
     "text": [
      "(45515, 20)\n",
      "(11379, 20)\n"
     ]
    }
   ],
   "source": [
    "print(train.shape)\n",
    "print(test.shape)"
   ]
  },
  {
   "cell_type": "code",
   "execution_count": 47,
   "metadata": {
    "collapsed": false
   },
   "outputs": [
    {
     "data": {
      "text/plain": [
       "LinearRegression(copy_X=True, fit_intercept=True, n_jobs=1, normalize=False)"
      ]
     },
     "execution_count": 47,
     "metadata": {},
     "output_type": "execute_result"
    }
   ],
   "source": [
    "from sklearn.linear_model import LinearRegression\n",
    "model = LinearRegression()\n",
    "model.fit(train[columns], train[target])"
   ]
  },
  {
   "cell_type": "code",
   "execution_count": 48,
   "metadata": {
    "collapsed": false
   },
   "outputs": [
    {
     "name": "stdout",
     "output_type": "stream",
     "text": [
      "LinearRegression(copy_X=True, fit_intercept=True, n_jobs=1, normalize=False)\n"
     ]
    }
   ],
   "source": [
    "print(model)"
   ]
  },
  {
   "cell_type": "code",
   "execution_count": 50,
   "metadata": {
    "collapsed": false
   },
   "outputs": [],
   "source": [
    "from sklearn.metrics import mean_squared_error\n",
    "predictions = model.predict(test[columns])"
   ]
  },
  {
   "cell_type": "code",
   "execution_count": 51,
   "metadata": {
    "collapsed": false
   },
   "outputs": [
    {
     "name": "stdout",
     "output_type": "stream",
     "text": [
      "[ 6.75992275  8.36145643  8.3251177  ...,  6.45530768  6.54520485\n",
      "  7.1550093 ]\n"
     ]
    }
   ],
   "source": [
    "print(predictions)"
   ]
  },
  {
   "cell_type": "code",
   "execution_count": 52,
   "metadata": {
    "collapsed": false
   },
   "outputs": [
    {
     "data": {
      "text/plain": [
       "1.8239281903519864"
      ]
     },
     "execution_count": 52,
     "metadata": {},
     "output_type": "execute_result"
    }
   ],
   "source": [
    "mean_squared_error(predictions, test[target])"
   ]
  },
  {
   "cell_type": "code",
   "execution_count": 53,
   "metadata": {
    "collapsed": true
   },
   "outputs": [],
   "source": [
    "from sklearn.ensemble import RandomForestRegressor"
   ]
  },
  {
   "cell_type": "code",
   "execution_count": 56,
   "metadata": {
    "collapsed": false
   },
   "outputs": [
    {
     "ename": "KeyboardInterrupt",
     "evalue": "",
     "output_type": "error",
     "traceback": [
      "\u001b[0;31m---------------------------------------------------------------------------\u001b[0m",
      "\u001b[0;31mKeyboardInterrupt\u001b[0m                         Traceback (most recent call last)",
      "\u001b[0;32m<ipython-input-56-9e1077e89110>\u001b[0m in \u001b[0;36m<module>\u001b[0;34m()\u001b[0m\n\u001b[1;32m      1\u001b[0m \u001b[0mmodel\u001b[0m \u001b[1;33m=\u001b[0m \u001b[0mRandomForestRegressor\u001b[0m\u001b[1;33m(\u001b[0m\u001b[0mn_estimators\u001b[0m\u001b[1;33m=\u001b[0m\u001b[1;36m100\u001b[0m\u001b[1;33m,\u001b[0m \u001b[0mmin_samples_leaf\u001b[0m\u001b[1;33m=\u001b[0m\u001b[1;36m10\u001b[0m\u001b[1;33m,\u001b[0m \u001b[0mrandom_state\u001b[0m\u001b[1;33m=\u001b[0m\u001b[1;36m1\u001b[0m\u001b[1;33m)\u001b[0m\u001b[1;33m\u001b[0m\u001b[0m\n\u001b[0;32m----> 2\u001b[0;31m \u001b[0mmodel\u001b[0m\u001b[1;33m.\u001b[0m\u001b[0mfit\u001b[0m\u001b[1;33m(\u001b[0m\u001b[0mtrain\u001b[0m\u001b[1;33m[\u001b[0m\u001b[0mcolumns\u001b[0m\u001b[1;33m]\u001b[0m\u001b[1;33m,\u001b[0m \u001b[0mtrain\u001b[0m\u001b[1;33m[\u001b[0m\u001b[0mtarget\u001b[0m\u001b[1;33m]\u001b[0m\u001b[1;33m)\u001b[0m\u001b[1;33m\u001b[0m\u001b[0m\n\u001b[0m\u001b[1;32m      3\u001b[0m \u001b[0mpredictions\u001b[0m \u001b[1;33m=\u001b[0m \u001b[0mmodel\u001b[0m\u001b[1;33m.\u001b[0m\u001b[0mpredict\u001b[0m\u001b[1;33m(\u001b[0m\u001b[0mtest\u001b[0m\u001b[1;33m[\u001b[0m\u001b[0mcolumns\u001b[0m\u001b[1;33m]\u001b[0m\u001b[1;33m)\u001b[0m\u001b[1;33m\u001b[0m\u001b[0m\n",
      "\u001b[0;32mC:\\Users\\Awwab\\Anaconda3\\lib\\site-packages\\sklearn\\ensemble\\forest.py\u001b[0m in \u001b[0;36mfit\u001b[0;34m(self, X, y, sample_weight)\u001b[0m\n\u001b[1;32m    324\u001b[0m                     \u001b[0mt\u001b[0m\u001b[1;33m,\u001b[0m \u001b[0mself\u001b[0m\u001b[1;33m,\u001b[0m \u001b[0mX\u001b[0m\u001b[1;33m,\u001b[0m \u001b[0my\u001b[0m\u001b[1;33m,\u001b[0m \u001b[0msample_weight\u001b[0m\u001b[1;33m,\u001b[0m \u001b[0mi\u001b[0m\u001b[1;33m,\u001b[0m \u001b[0mlen\u001b[0m\u001b[1;33m(\u001b[0m\u001b[0mtrees\u001b[0m\u001b[1;33m)\u001b[0m\u001b[1;33m,\u001b[0m\u001b[1;33m\u001b[0m\u001b[0m\n\u001b[1;32m    325\u001b[0m                     verbose=self.verbose, class_weight=self.class_weight)\n\u001b[0;32m--> 326\u001b[0;31m                 for i, t in enumerate(trees))\n\u001b[0m\u001b[1;32m    327\u001b[0m \u001b[1;33m\u001b[0m\u001b[0m\n\u001b[1;32m    328\u001b[0m             \u001b[1;31m# Collect newly grown trees\u001b[0m\u001b[1;33m\u001b[0m\u001b[1;33m\u001b[0m\u001b[0m\n",
      "\u001b[0;32mC:\\Users\\Awwab\\Anaconda3\\lib\\site-packages\\sklearn\\externals\\joblib\\parallel.py\u001b[0m in \u001b[0;36m__call__\u001b[0;34m(self, iterable)\u001b[0m\n\u001b[1;32m    756\u001b[0m             \u001b[1;31m# was dispatched. In particular this covers the edge\u001b[0m\u001b[1;33m\u001b[0m\u001b[1;33m\u001b[0m\u001b[0m\n\u001b[1;32m    757\u001b[0m             \u001b[1;31m# case of Parallel used with an exhausted iterator.\u001b[0m\u001b[1;33m\u001b[0m\u001b[1;33m\u001b[0m\u001b[0m\n\u001b[0;32m--> 758\u001b[0;31m             \u001b[1;32mwhile\u001b[0m \u001b[0mself\u001b[0m\u001b[1;33m.\u001b[0m\u001b[0mdispatch_one_batch\u001b[0m\u001b[1;33m(\u001b[0m\u001b[0miterator\u001b[0m\u001b[1;33m)\u001b[0m\u001b[1;33m:\u001b[0m\u001b[1;33m\u001b[0m\u001b[0m\n\u001b[0m\u001b[1;32m    759\u001b[0m                 \u001b[0mself\u001b[0m\u001b[1;33m.\u001b[0m\u001b[0m_iterating\u001b[0m \u001b[1;33m=\u001b[0m \u001b[1;32mTrue\u001b[0m\u001b[1;33m\u001b[0m\u001b[0m\n\u001b[1;32m    760\u001b[0m             \u001b[1;32melse\u001b[0m\u001b[1;33m:\u001b[0m\u001b[1;33m\u001b[0m\u001b[0m\n",
      "\u001b[0;32mC:\\Users\\Awwab\\Anaconda3\\lib\\site-packages\\sklearn\\externals\\joblib\\parallel.py\u001b[0m in \u001b[0;36mdispatch_one_batch\u001b[0;34m(self, iterator)\u001b[0m\n\u001b[1;32m    606\u001b[0m                 \u001b[1;32mreturn\u001b[0m \u001b[1;32mFalse\u001b[0m\u001b[1;33m\u001b[0m\u001b[0m\n\u001b[1;32m    607\u001b[0m             \u001b[1;32melse\u001b[0m\u001b[1;33m:\u001b[0m\u001b[1;33m\u001b[0m\u001b[0m\n\u001b[0;32m--> 608\u001b[0;31m                 \u001b[0mself\u001b[0m\u001b[1;33m.\u001b[0m\u001b[0m_dispatch\u001b[0m\u001b[1;33m(\u001b[0m\u001b[0mtasks\u001b[0m\u001b[1;33m)\u001b[0m\u001b[1;33m\u001b[0m\u001b[0m\n\u001b[0m\u001b[1;32m    609\u001b[0m                 \u001b[1;32mreturn\u001b[0m \u001b[1;32mTrue\u001b[0m\u001b[1;33m\u001b[0m\u001b[0m\n\u001b[1;32m    610\u001b[0m \u001b[1;33m\u001b[0m\u001b[0m\n",
      "\u001b[0;32mC:\\Users\\Awwab\\Anaconda3\\lib\\site-packages\\sklearn\\externals\\joblib\\parallel.py\u001b[0m in \u001b[0;36m_dispatch\u001b[0;34m(self, batch)\u001b[0m\n\u001b[1;32m    569\u001b[0m         \u001b[0mdispatch_timestamp\u001b[0m \u001b[1;33m=\u001b[0m \u001b[0mtime\u001b[0m\u001b[1;33m.\u001b[0m\u001b[0mtime\u001b[0m\u001b[1;33m(\u001b[0m\u001b[1;33m)\u001b[0m\u001b[1;33m\u001b[0m\u001b[0m\n\u001b[1;32m    570\u001b[0m         \u001b[0mcb\u001b[0m \u001b[1;33m=\u001b[0m \u001b[0mBatchCompletionCallBack\u001b[0m\u001b[1;33m(\u001b[0m\u001b[0mdispatch_timestamp\u001b[0m\u001b[1;33m,\u001b[0m \u001b[0mlen\u001b[0m\u001b[1;33m(\u001b[0m\u001b[0mbatch\u001b[0m\u001b[1;33m)\u001b[0m\u001b[1;33m,\u001b[0m \u001b[0mself\u001b[0m\u001b[1;33m)\u001b[0m\u001b[1;33m\u001b[0m\u001b[0m\n\u001b[0;32m--> 571\u001b[0;31m         \u001b[0mjob\u001b[0m \u001b[1;33m=\u001b[0m \u001b[0mself\u001b[0m\u001b[1;33m.\u001b[0m\u001b[0m_backend\u001b[0m\u001b[1;33m.\u001b[0m\u001b[0mapply_async\u001b[0m\u001b[1;33m(\u001b[0m\u001b[0mbatch\u001b[0m\u001b[1;33m,\u001b[0m \u001b[0mcallback\u001b[0m\u001b[1;33m=\u001b[0m\u001b[0mcb\u001b[0m\u001b[1;33m)\u001b[0m\u001b[1;33m\u001b[0m\u001b[0m\n\u001b[0m\u001b[1;32m    572\u001b[0m         \u001b[0mself\u001b[0m\u001b[1;33m.\u001b[0m\u001b[0m_jobs\u001b[0m\u001b[1;33m.\u001b[0m\u001b[0mappend\u001b[0m\u001b[1;33m(\u001b[0m\u001b[0mjob\u001b[0m\u001b[1;33m)\u001b[0m\u001b[1;33m\u001b[0m\u001b[0m\n\u001b[1;32m    573\u001b[0m \u001b[1;33m\u001b[0m\u001b[0m\n",
      "\u001b[0;32mC:\\Users\\Awwab\\Anaconda3\\lib\\site-packages\\sklearn\\externals\\joblib\\_parallel_backends.py\u001b[0m in \u001b[0;36mapply_async\u001b[0;34m(self, func, callback)\u001b[0m\n\u001b[1;32m    107\u001b[0m     \u001b[1;32mdef\u001b[0m \u001b[0mapply_async\u001b[0m\u001b[1;33m(\u001b[0m\u001b[0mself\u001b[0m\u001b[1;33m,\u001b[0m \u001b[0mfunc\u001b[0m\u001b[1;33m,\u001b[0m \u001b[0mcallback\u001b[0m\u001b[1;33m=\u001b[0m\u001b[1;32mNone\u001b[0m\u001b[1;33m)\u001b[0m\u001b[1;33m:\u001b[0m\u001b[1;33m\u001b[0m\u001b[0m\n\u001b[1;32m    108\u001b[0m         \u001b[1;34m\"\"\"Schedule a func to be run\"\"\"\u001b[0m\u001b[1;33m\u001b[0m\u001b[0m\n\u001b[0;32m--> 109\u001b[0;31m         \u001b[0mresult\u001b[0m \u001b[1;33m=\u001b[0m \u001b[0mImmediateResult\u001b[0m\u001b[1;33m(\u001b[0m\u001b[0mfunc\u001b[0m\u001b[1;33m)\u001b[0m\u001b[1;33m\u001b[0m\u001b[0m\n\u001b[0m\u001b[1;32m    110\u001b[0m         \u001b[1;32mif\u001b[0m \u001b[0mcallback\u001b[0m\u001b[1;33m:\u001b[0m\u001b[1;33m\u001b[0m\u001b[0m\n\u001b[1;32m    111\u001b[0m             \u001b[0mcallback\u001b[0m\u001b[1;33m(\u001b[0m\u001b[0mresult\u001b[0m\u001b[1;33m)\u001b[0m\u001b[1;33m\u001b[0m\u001b[0m\n",
      "\u001b[0;32mC:\\Users\\Awwab\\Anaconda3\\lib\\site-packages\\sklearn\\externals\\joblib\\_parallel_backends.py\u001b[0m in \u001b[0;36m__init__\u001b[0;34m(self, batch)\u001b[0m\n\u001b[1;32m    324\u001b[0m         \u001b[1;31m# Don't delay the application, to avoid keeping the input\u001b[0m\u001b[1;33m\u001b[0m\u001b[1;33m\u001b[0m\u001b[0m\n\u001b[1;32m    325\u001b[0m         \u001b[1;31m# arguments in memory\u001b[0m\u001b[1;33m\u001b[0m\u001b[1;33m\u001b[0m\u001b[0m\n\u001b[0;32m--> 326\u001b[0;31m         \u001b[0mself\u001b[0m\u001b[1;33m.\u001b[0m\u001b[0mresults\u001b[0m \u001b[1;33m=\u001b[0m \u001b[0mbatch\u001b[0m\u001b[1;33m(\u001b[0m\u001b[1;33m)\u001b[0m\u001b[1;33m\u001b[0m\u001b[0m\n\u001b[0m\u001b[1;32m    327\u001b[0m \u001b[1;33m\u001b[0m\u001b[0m\n\u001b[1;32m    328\u001b[0m     \u001b[1;32mdef\u001b[0m \u001b[0mget\u001b[0m\u001b[1;33m(\u001b[0m\u001b[0mself\u001b[0m\u001b[1;33m)\u001b[0m\u001b[1;33m:\u001b[0m\u001b[1;33m\u001b[0m\u001b[0m\n",
      "\u001b[0;32mC:\\Users\\Awwab\\Anaconda3\\lib\\site-packages\\sklearn\\externals\\joblib\\parallel.py\u001b[0m in \u001b[0;36m__call__\u001b[0;34m(self)\u001b[0m\n\u001b[1;32m    129\u001b[0m \u001b[1;33m\u001b[0m\u001b[0m\n\u001b[1;32m    130\u001b[0m     \u001b[1;32mdef\u001b[0m \u001b[0m__call__\u001b[0m\u001b[1;33m(\u001b[0m\u001b[0mself\u001b[0m\u001b[1;33m)\u001b[0m\u001b[1;33m:\u001b[0m\u001b[1;33m\u001b[0m\u001b[0m\n\u001b[0;32m--> 131\u001b[0;31m         \u001b[1;32mreturn\u001b[0m \u001b[1;33m[\u001b[0m\u001b[0mfunc\u001b[0m\u001b[1;33m(\u001b[0m\u001b[1;33m*\u001b[0m\u001b[0margs\u001b[0m\u001b[1;33m,\u001b[0m \u001b[1;33m**\u001b[0m\u001b[0mkwargs\u001b[0m\u001b[1;33m)\u001b[0m \u001b[1;32mfor\u001b[0m \u001b[0mfunc\u001b[0m\u001b[1;33m,\u001b[0m \u001b[0margs\u001b[0m\u001b[1;33m,\u001b[0m \u001b[0mkwargs\u001b[0m \u001b[1;32min\u001b[0m \u001b[0mself\u001b[0m\u001b[1;33m.\u001b[0m\u001b[0mitems\u001b[0m\u001b[1;33m]\u001b[0m\u001b[1;33m\u001b[0m\u001b[0m\n\u001b[0m\u001b[1;32m    132\u001b[0m \u001b[1;33m\u001b[0m\u001b[0m\n\u001b[1;32m    133\u001b[0m     \u001b[1;32mdef\u001b[0m \u001b[0m__len__\u001b[0m\u001b[1;33m(\u001b[0m\u001b[0mself\u001b[0m\u001b[1;33m)\u001b[0m\u001b[1;33m:\u001b[0m\u001b[1;33m\u001b[0m\u001b[0m\n",
      "\u001b[0;32mC:\\Users\\Awwab\\Anaconda3\\lib\\site-packages\\sklearn\\externals\\joblib\\parallel.py\u001b[0m in \u001b[0;36m<listcomp>\u001b[0;34m(.0)\u001b[0m\n\u001b[1;32m    129\u001b[0m \u001b[1;33m\u001b[0m\u001b[0m\n\u001b[1;32m    130\u001b[0m     \u001b[1;32mdef\u001b[0m \u001b[0m__call__\u001b[0m\u001b[1;33m(\u001b[0m\u001b[0mself\u001b[0m\u001b[1;33m)\u001b[0m\u001b[1;33m:\u001b[0m\u001b[1;33m\u001b[0m\u001b[0m\n\u001b[0;32m--> 131\u001b[0;31m         \u001b[1;32mreturn\u001b[0m \u001b[1;33m[\u001b[0m\u001b[0mfunc\u001b[0m\u001b[1;33m(\u001b[0m\u001b[1;33m*\u001b[0m\u001b[0margs\u001b[0m\u001b[1;33m,\u001b[0m \u001b[1;33m**\u001b[0m\u001b[0mkwargs\u001b[0m\u001b[1;33m)\u001b[0m \u001b[1;32mfor\u001b[0m \u001b[0mfunc\u001b[0m\u001b[1;33m,\u001b[0m \u001b[0margs\u001b[0m\u001b[1;33m,\u001b[0m \u001b[0mkwargs\u001b[0m \u001b[1;32min\u001b[0m \u001b[0mself\u001b[0m\u001b[1;33m.\u001b[0m\u001b[0mitems\u001b[0m\u001b[1;33m]\u001b[0m\u001b[1;33m\u001b[0m\u001b[0m\n\u001b[0m\u001b[1;32m    132\u001b[0m \u001b[1;33m\u001b[0m\u001b[0m\n\u001b[1;32m    133\u001b[0m     \u001b[1;32mdef\u001b[0m \u001b[0m__len__\u001b[0m\u001b[1;33m(\u001b[0m\u001b[0mself\u001b[0m\u001b[1;33m)\u001b[0m\u001b[1;33m:\u001b[0m\u001b[1;33m\u001b[0m\u001b[0m\n",
      "\u001b[0;32mC:\\Users\\Awwab\\Anaconda3\\lib\\site-packages\\sklearn\\ensemble\\forest.py\u001b[0m in \u001b[0;36m_parallel_build_trees\u001b[0;34m(tree, forest, X, y, sample_weight, tree_idx, n_trees, verbose, class_weight)\u001b[0m\n\u001b[1;32m    118\u001b[0m             \u001b[0mcurr_sample_weight\u001b[0m \u001b[1;33m*=\u001b[0m \u001b[0mcompute_sample_weight\u001b[0m\u001b[1;33m(\u001b[0m\u001b[1;34m'balanced'\u001b[0m\u001b[1;33m,\u001b[0m \u001b[0my\u001b[0m\u001b[1;33m,\u001b[0m \u001b[0mindices\u001b[0m\u001b[1;33m)\u001b[0m\u001b[1;33m\u001b[0m\u001b[0m\n\u001b[1;32m    119\u001b[0m \u001b[1;33m\u001b[0m\u001b[0m\n\u001b[0;32m--> 120\u001b[0;31m         \u001b[0mtree\u001b[0m\u001b[1;33m.\u001b[0m\u001b[0mfit\u001b[0m\u001b[1;33m(\u001b[0m\u001b[0mX\u001b[0m\u001b[1;33m,\u001b[0m \u001b[0my\u001b[0m\u001b[1;33m,\u001b[0m \u001b[0msample_weight\u001b[0m\u001b[1;33m=\u001b[0m\u001b[0mcurr_sample_weight\u001b[0m\u001b[1;33m,\u001b[0m \u001b[0mcheck_input\u001b[0m\u001b[1;33m=\u001b[0m\u001b[1;32mFalse\u001b[0m\u001b[1;33m)\u001b[0m\u001b[1;33m\u001b[0m\u001b[0m\n\u001b[0m\u001b[1;32m    121\u001b[0m     \u001b[1;32melse\u001b[0m\u001b[1;33m:\u001b[0m\u001b[1;33m\u001b[0m\u001b[0m\n\u001b[1;32m    122\u001b[0m         \u001b[0mtree\u001b[0m\u001b[1;33m.\u001b[0m\u001b[0mfit\u001b[0m\u001b[1;33m(\u001b[0m\u001b[0mX\u001b[0m\u001b[1;33m,\u001b[0m \u001b[0my\u001b[0m\u001b[1;33m,\u001b[0m \u001b[0msample_weight\u001b[0m\u001b[1;33m=\u001b[0m\u001b[0msample_weight\u001b[0m\u001b[1;33m,\u001b[0m \u001b[0mcheck_input\u001b[0m\u001b[1;33m=\u001b[0m\u001b[1;32mFalse\u001b[0m\u001b[1;33m)\u001b[0m\u001b[1;33m\u001b[0m\u001b[0m\n",
      "\u001b[0;32mC:\\Users\\Awwab\\Anaconda3\\lib\\site-packages\\sklearn\\tree\\tree.py\u001b[0m in \u001b[0;36mfit\u001b[0;34m(self, X, y, sample_weight, check_input, X_idx_sorted)\u001b[0m\n\u001b[1;32m   1027\u001b[0m             \u001b[0msample_weight\u001b[0m\u001b[1;33m=\u001b[0m\u001b[0msample_weight\u001b[0m\u001b[1;33m,\u001b[0m\u001b[1;33m\u001b[0m\u001b[0m\n\u001b[1;32m   1028\u001b[0m             \u001b[0mcheck_input\u001b[0m\u001b[1;33m=\u001b[0m\u001b[0mcheck_input\u001b[0m\u001b[1;33m,\u001b[0m\u001b[1;33m\u001b[0m\u001b[0m\n\u001b[0;32m-> 1029\u001b[0;31m             X_idx_sorted=X_idx_sorted)\n\u001b[0m\u001b[1;32m   1030\u001b[0m         \u001b[1;32mreturn\u001b[0m \u001b[0mself\u001b[0m\u001b[1;33m\u001b[0m\u001b[0m\n\u001b[1;32m   1031\u001b[0m \u001b[1;33m\u001b[0m\u001b[0m\n",
      "\u001b[0;32mC:\\Users\\Awwab\\Anaconda3\\lib\\site-packages\\sklearn\\tree\\tree.py\u001b[0m in \u001b[0;36mfit\u001b[0;34m(self, X, y, sample_weight, check_input, X_idx_sorted)\u001b[0m\n\u001b[1;32m    348\u001b[0m                                            self.min_impurity_split)\n\u001b[1;32m    349\u001b[0m \u001b[1;33m\u001b[0m\u001b[0m\n\u001b[0;32m--> 350\u001b[0;31m         \u001b[0mbuilder\u001b[0m\u001b[1;33m.\u001b[0m\u001b[0mbuild\u001b[0m\u001b[1;33m(\u001b[0m\u001b[0mself\u001b[0m\u001b[1;33m.\u001b[0m\u001b[0mtree_\u001b[0m\u001b[1;33m,\u001b[0m \u001b[0mX\u001b[0m\u001b[1;33m,\u001b[0m \u001b[0my\u001b[0m\u001b[1;33m,\u001b[0m \u001b[0msample_weight\u001b[0m\u001b[1;33m,\u001b[0m \u001b[0mX_idx_sorted\u001b[0m\u001b[1;33m)\u001b[0m\u001b[1;33m\u001b[0m\u001b[0m\n\u001b[0m\u001b[1;32m    351\u001b[0m \u001b[1;33m\u001b[0m\u001b[0m\n\u001b[1;32m    352\u001b[0m         \u001b[1;32mif\u001b[0m \u001b[0mself\u001b[0m\u001b[1;33m.\u001b[0m\u001b[0mn_outputs_\u001b[0m \u001b[1;33m==\u001b[0m \u001b[1;36m1\u001b[0m\u001b[1;33m:\u001b[0m\u001b[1;33m\u001b[0m\u001b[0m\n",
      "\u001b[0;31mKeyboardInterrupt\u001b[0m: "
     ]
    }
   ],
   "source": [
    "model = RandomForestRegressor(n_estimators=100, min_samples_leaf=10, random_state=1)\n",
    "model.fit(train[columns], train[target])\n",
    "predictions = model.predict(test[columns])"
   ]
  },
  {
   "cell_type": "code",
   "execution_count": null,
   "metadata": {
    "collapsed": true
   },
   "outputs": [],
   "source": []
  },
  {
   "cell_type": "code",
   "execution_count": null,
   "metadata": {
    "collapsed": true
   },
   "outputs": [],
   "source": []
  }
 ],
 "metadata": {
  "kernelspec": {
   "display_name": "Python 3",
   "language": "python",
   "name": "python3"
  },
  "language_info": {
   "codemirror_mode": {
    "name": "ipython",
    "version": 3
   },
   "file_extension": ".py",
   "mimetype": "text/x-python",
   "name": "python",
   "nbconvert_exporter": "python",
   "pygments_lexer": "ipython3",
   "version": "3.6.0"
  }
 },
 "nbformat": 4,
 "nbformat_minor": 2
}
